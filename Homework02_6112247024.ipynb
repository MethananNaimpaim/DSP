{
 "cells": [
  {
   "cell_type": "code",
   "execution_count": 1,
   "metadata": {},
   "outputs": [],
   "source": [
    "#เป็นการประกาศ Library เพื่อนำมาใช้งาน\n",
    "from __future__ import print_function, division\n",
    "\n",
    "%matplotlib inline\n",
    "import warnings\n",
    "warnings.filterwarnings('ignore')\n",
    "\n",
    "import thinkdsp\n",
    "import thinkplot\n",
    "import thinkstats2 \n",
    "\n",
    "import numpy as np\n",
    "\n",
    "from ipywidgets import interact, interactive, fixed\n",
    "import ipywidgets as widgets"
   ]
  },
  {
   "cell_type": "code",
   "execution_count": 2,
   "metadata": {},
   "outputs": [],
   "source": [
    "#การสร้างสัญญาณรบกวนอย่างง่าย (uncorrelated uniform noise)\n",
    "thinkdsp.random_seed(24)"
   ]
  },
  {
   "cell_type": "code",
   "execution_count": 3,
   "metadata": {},
   "outputs": [],
   "source": [
    "#นำสัญญาณไปรวมกับ uncorrelated uniform noise ที่ random ขึ้นมา\n",
    "signal = thinkdsp.UncorrelatedUniformNoise()"
   ]
  },
  {
   "cell_type": "code",
   "execution_count": 4,
   "metadata": {},
   "outputs": [
    {
     "data": {
      "text/html": [
       "\n",
       "                <audio  controls=\"controls\" >\n",
       "                    <source src=\"data:audio/wav;base64,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\" type=\"audio/wav\" />\n",
       "                    Your browser does not support the audio element.\n",
       "                </audio>\n",
       "              "
      ],
      "text/plain": [
       "<IPython.lib.display.Audio object>"
      ]
     },
     "execution_count": 4,
     "metadata": {},
     "output_type": "execute_result"
    }
   ],
   "source": [
    "#เป็นการสร้างเสียงขึ้นจากสัญญาณที่ random ขึ้น โดยให้ duration  = 0.5 และ framerate = 5512\n",
    "wave = signal.make_wave(duration=0.5, framerate=5512)\n",
    "wave.make_audio()"
   ]
  },
  {
   "cell_type": "code",
   "execution_count": null,
   "metadata": {},
   "outputs": [],
   "source": []
  }
 ],
 "metadata": {
  "kernelspec": {
   "display_name": "Python 3",
   "language": "python",
   "name": "python3"
  },
  "language_info": {
   "codemirror_mode": {
    "name": "ipython",
    "version": 3
   },
   "file_extension": ".py",
   "mimetype": "text/x-python",
   "name": "python",
   "nbconvert_exporter": "python",
   "pygments_lexer": "ipython3",
   "version": "3.7.6"
  }
 },
 "nbformat": 4,
 "nbformat_minor": 2
}
